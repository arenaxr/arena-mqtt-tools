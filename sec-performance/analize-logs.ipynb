{
 "cells": [
  {
   "cell_type": "code",
   "execution_count": 152,
   "metadata": {},
   "outputs": [
    {
     "data": {
      "image/png": "[encoded data removed]",
      "text/plain": [
       "<Figure size 432x288 with 3 Axes>"
      ]
     },
     "metadata": {
      "needs_background": "light"
     },
     "output_type": "display_data"
    }
   ],
   "source": [
    "import pandas as pd\n",
    "import matplotlib\n",
    "\n",
    "d = {'connect_wsec_ms': [], 'publish_wsec_ms': [], 'subscribe_wsec_ms': [], 'connect_nosec_ms': [], 'publish_nosec_ms': [], 'subscribe_nosec_ms': []}\n",
    "\n",
    "file = open('server_time_sec.log', 'r')\n",
    "lines = file.read().splitlines()\n",
    "file.close()\n",
    "\n",
    "for line in lines:\n",
    "    if not line:\n",
    "        continue\n",
    "    if 'handle__connect::' in line:\n",
    "        time_s=float(line.split(':')[3].replace(' s', ''))\n",
    "        d['connect_wsec_ms'].append(time_s*1000);\n",
    "    if 'handle__publish::' in line:        \n",
    "        time_s=float(line.split(':')[3].replace(' s', ''))\n",
    "        d['publish_wsec_ms'].append(time_s*1000);\n",
    "    if 'handle__subscribe::' in line:        \n",
    "        time_s=float(line.split(':')[3].replace(' s', ''))\n",
    "        d['subscribe_wsec_ms'].append(time_s*1000);\n",
    "\n",
    "file = open('server_time_nosec.log', 'r')\n",
    "lines = file.read().splitlines()\n",
    "file.close()\n",
    "\n",
    "for line in lines:\n",
    "    if not line:\n",
    "        continue\n",
    "    if 'handle__connect::' in line:\n",
    "        time_s=float(line.split(':')[3].replace(' s', ''))\n",
    "        d['connect_nosec_ms'].append(time_s*1000);\n",
    "    if 'handle__publish::' in line:        \n",
    "        time_s=float(line.split(':')[3].replace(' s', ''))\n",
    "        d['publish_nosec_ms'].append(time_s*1000);\n",
    "    if 'handle__subscribe::' in line:        \n",
    "        time_s=float(line.split(':')[3].replace(' s', ''))\n",
    "        d['subscribe_nosec_ms'].append(time_s*1000);       \n",
    "        \n",
    "df1 = pd.DataFrame(d['connect_wsec_ms'])\n",
    "df2 = pd.DataFrame(d['publish_wsec_ms'])\n",
    "df3 = pd.DataFrame(d['subscribe_wsec_ms'])\n",
    "df4 = pd.DataFrame(d['connect_nosec_ms'])\n",
    "df5 = pd.DataFrame(d['publish_nosec_ms'])\n",
    "df6 = pd.DataFrame(d['subscribe_nosec_ms'])\n",
    "\n",
    "df_connect = pd.concat([df1.reset_index(drop=True), df4.reset_index(drop=True)], axis=1)\n",
    "df_publish = pd.concat([df2.reset_index(drop=True), df5.reset_index(drop=True)], axis=1)\n",
    "df_subscribe = pd.concat([df3.reset_index(drop=True), df6.reset_index(drop=True)], axis=1)\n",
    "\n",
    "df_connect.columns = ['tls+acl', 'no sec.']\n",
    "df_publish.columns = ['tls+acl', 'no sec.']\n",
    "df_subscribe.columns = ['tls+acl', 'no sec.']\n",
    "\n",
    "#df.columns=['connect_wsec_ms', 'publish_wsec_ms', 'subscribe_wsec_ms','connect_nosec_ms', 'publish_nosec_ms', 'subscribe_nosec_ms']\n",
    "#boxplot = df.boxplot(column=['connect_wsec_ms', 'publish_wsec_ms', 'subscribe_wsec_ms','connect_nosec_ms', 'publish_nosec_ms', 'subscribe_nosec_ms'], return_type='axes')\n",
    "#boxplot.axis(ymin=0, ymax=.1)\n",
    "\n",
    "fig, axes = matplotlib.pyplot.subplots(nrows=1, ncols=3) # 3 subplots\n",
    "\n",
    "boxplot1 = df_connect.boxplot(ax=axes[0], column=['tls+acl', 'no sec.'], return_type='axes', showfliers=False)\n",
    "boxplot1.set_title('connection')\n",
    "boxplot1.set_ylabel('ms')\n",
    "boxplot1.axis(ymin=0, ymax=1.2)\n",
    "\n",
    "boxplot2 = df_publish.boxplot(ax=axes[1], column=['tls+acl', 'no sec.'], return_type='axes', showfliers=False)\n",
    "boxplot2.set_title('publish')\n",
    "boxplot2.set_ylabel('ms')\n",
    "boxplot2.axis(ymin=0, ymax=.05)\n",
    "\n",
    "boxplot3 = df_subscribe.boxplot(ax=axes[2], column=['tls+acl', 'no sec.'], return_type='axes', showfliers=False)\n",
    "boxplot3.set_title('subscribe')\n",
    "boxplot3.set_ylabel('ms')\n",
    "boxplot3.axis(ymin=0, ymax=.05)\n",
    "\n",
    "fig.tight_layout() # spacing between sub plots\n",
    "\n",
    "#for ax in boxplot.values():\n",
    "#    ax.set_ylim(0, 2)\n",
    "\n",
    "#df['publish_wsec_ms'].median()\n",
    "#df['publish_nosec_ms'].median()"
   ]
  },
  {
   "cell_type": "code",
   "execution_count": null,
   "metadata": {},
   "outputs": [],
   "source": []
  },
  {
   "cell_type": "code",
   "execution_count": null,
   "metadata": {},
   "outputs": [],
   "source": []
  },
  {
   "cell_type": "code",
   "execution_count": null,
   "metadata": {},
   "outputs": [],
   "source": []
  },
  {
   "cell_type": "code",
   "execution_count": null,
   "metadata": {},
   "outputs": [],
   "source": []
  },
  {
   "cell_type": "code",
   "execution_count": null,
   "metadata": {},
   "outputs": [],
   "source": []
  }
 ],
 "metadata": {
  "kernelspec": {
   "display_name": "Python 3",
   "language": "python",
   "name": "python3"
  },
  "language_info": {
   "codemirror_mode": {
    "name": "ipython",
    "version": 3
   },
   "file_extension": ".py",
   "mimetype": "text/x-python",
   "name": "python",
   "nbconvert_exporter": "python",
   "pygments_lexer": "ipython3",
   "version": "3.8.5"
  }
 },
 "nbformat": 4,
 "nbformat_minor": 4
}
